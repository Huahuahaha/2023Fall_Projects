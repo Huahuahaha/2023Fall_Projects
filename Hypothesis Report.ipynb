{
 "cells": [
  {
   "cell_type": "code",
   "execution_count": null,
   "outputs": [],
   "source": [
    "import pandas as pd\n",
    "import main_functions as functions\n",
    "import importlib\n",
    "import matplotlib.pyplot as plt"
   ],
   "metadata": {
    "collapsed": false,
    "pycharm": {
     "name": "#%%\n"
    }
   }
  },
  {
   "cell_type": "code",
   "execution_count": null,
   "outputs": [],
   "source": [
    "importlib.reload(functions)\n",
    "fr_data = pd.read_csv('Data/Fertility rates.csv', skiprows=4)\n",
    "dr_data = pd.read_csv('Data/Death rates.csv', skiprows=4)\n",
    "covid_data = pd.read_csv('Data/WHO-COVID-19-global-data.csv')\n",
    "polio_data = pd.read_csv('Data/the-number-of-reported-paralytic-polio-cases.csv')\n",
    "hiv_data = pd.read_csv('Data/share-of-population-infected-with-hiv-ihme.csv')\n",
    "iraq_death = pd.read_csv('Data/iraq-war-2003-2023.csv')\n",
    "bt_death = pd.read_csv('Data/Battle-related-death.csv', skiprows=4)"
   ],
   "metadata": {
    "collapsed": false,
    "pycharm": {
     "name": "#%%\n"
    }
   }
  },
  {
   "cell_type": "markdown",
   "source": [
    "Hypothesis one"
   ],
   "metadata": {
    "collapsed": false,
    "pycharm": {
     "name": "#%% md\n"
    }
   }
  },
  {
   "cell_type": "code",
   "execution_count": null,
   "outputs": [],
   "source": [
    "usa_fr = functions.ext_sel_da(fr_data, 'USA', 1975, 2021)\n",
    "chn_fr = functions.ext_sel_da(fr_data, 'CHN', 1975, 2021)\n",
    "functions.plot_fertility_rates(usa_fr, 'USA', 1975, 2021, 3)\n",
    "functions.plot_fertility_rates(chn_fr, 'CHN', 1975, 2021, 3)"
   ],
   "metadata": {
    "collapsed": false,
    "pycharm": {
     "name": "#%%\n"
    }
   }
  },
  {
   "cell_type": "markdown",
   "source": [
    "China"
   ],
   "metadata": {
    "collapsed": false,
    "pycharm": {
     "name": "#%% md\n"
    }
   }
  },
  {
   "cell_type": "code",
   "execution_count": null,
   "outputs": [],
   "source": [
    "chn_fr_change_rates = functions.calculate_change_rate(chn_fr)\n",
    "chn_cr_years = list(map(int, chn_fr_change_rates.keys()))\n",
    "chn_change_rates = list(chn_fr_change_rates.values())\n",
    "plt.figure(figsize=(10, 6))\n",
    "plt.plot(chn_cr_years, chn_change_rates, label = 'CHN', marker='o')\n",
    "plt.xticks(range(min(chn_cr_years), max(chn_cr_years) + 1, 3))\n",
    "plt.title(\"Fertility Change Rates in the China (1975-2021)\")\n",
    "plt.xlabel(\"Year\")\n",
    "plt.ylabel(\"Change Rate\")\n",
    "plt.grid(True)\n",
    "plt.legend()\n",
    "plt.show()"
   ],
   "metadata": {
    "collapsed": false,
    "pycharm": {
     "name": "#%%\n"
    }
   }
  },
  {
   "cell_type": "code",
   "execution_count": null,
   "outputs": [],
   "source": [
    "chn_polio = functions.ext_sel_polio(polio_data, 'CHN')\n",
    "plt.figure(figsize=(10, 6))\n",
    "plt.plot(chn_polio['Year'].values, chn_polio['Total (reported) polio cases'].values, marker='o')\n",
    "plt.title('Total Reported Polio Cases of China Over the Years')\n",
    "plt.xlabel('Year')\n",
    "plt.ylabel('Total Reported Polio Cases')\n",
    "plt.grid(True)\n",
    "plt.show()"
   ],
   "metadata": {
    "collapsed": false,
    "pycharm": {
     "name": "#%%\n"
    }
   }
  },
  {
   "cell_type": "code",
   "execution_count": null,
   "outputs": [],
   "source": [
    "chn_polio_dict = chn_polio.set_index('Year')['Total (reported) polio cases'].to_dict()\n",
    "chn_polio_change_rates = functions.calculate_change_rate(chn_polio_dict)\n",
    "chn_polio_years = list(map(int, chn_polio_change_rates.keys()))\n",
    "chn_polio_rates = list(chn_polio_change_rates.values())\n",
    "\n",
    "plt.figure(figsize=(10, 6))\n",
    "plt.plot(chn_cr_years, chn_change_rates, label = 'Fertility Rate', marker='o')\n",
    "plt.plot(chn_polio_years, chn_polio_rates, label = 'POLIO', marker='o')\n",
    "plt.xticks(range(min(chn_cr_years), max(chn_cr_years) + 1, 3))\n",
    "plt.title(\"Comparison of Fertility Change Rates and POLIO Change Rate in the China (1975-2021)\")\n",
    "plt.xlabel(\"Year\")\n",
    "plt.ylabel(\"Change Rate\")\n",
    "plt.grid(True)\n",
    "plt.legend()\n",
    "plt.show()"
   ],
   "metadata": {
    "collapsed": false,
    "pycharm": {
     "name": "#%%\n"
    }
   }
  },
  {
   "cell_type": "code",
   "execution_count": null,
   "outputs": [],
   "source": [
    "chn_fr_po = functions.ext_sel_da(fr_data, 'CHN', 1980, 2021)\n",
    "chn_fr_po = {int(year): rate for year, rate in chn_fr_po.items()}\n",
    "df = pd.DataFrame({'Fertility_Rates': chn_fr_po, 'Polio Cases': chn_polio_dict})\n",
    "df_normalized = (df - df.min()) / (df.max() - df.min())\n",
    "df_normalized.plot()\n",
    "plt.title('Normalized Fertility and Polio Cases Over Years')\n",
    "plt.xlabel('Year')\n",
    "plt.ylabel('Normalized Rates')\n",
    "plt.show()"
   ],
   "metadata": {
    "collapsed": false,
    "pycharm": {
     "name": "#%%\n"
    }
   }
  },
  {
   "cell_type": "code",
   "execution_count": null,
   "outputs": [],
   "source": [
    "cn_covid = functions.ext_sel_covid(covid_data, 'CN')\n",
    "plt.figure(figsize=(10, 6))\n",
    "plt.plot(cn_covid, label = 'COVID', marker='o')\n",
    "plt.title('Total New COVID-19 Cases Per Year in the CN')\n",
    "plt.xlabel('Year')\n",
    "plt.ylabel('Number of New Cases')\n",
    "plt.grid(True)\n",
    "plt.legend()\n",
    "plt.show()"
   ],
   "metadata": {
    "collapsed": false,
    "pycharm": {
     "name": "#%%\n"
    }
   }
  },
  {
   "cell_type": "code",
   "execution_count": null,
   "outputs": [],
   "source": [
    "chn_hiv = functions.ext_sel_hiv(hiv_data, 'CHN')\n",
    "plt.figure(figsize=(10, 6))\n",
    "plt.plot(chn_hiv['Year'].values, chn_hiv['Current number of cases of hiv/aids per 100 people, in both sexes aged 15-49 years'].values, marker='o')\n",
    "plt.title('Total Reported HIV Cases of China Over the Years')\n",
    "plt.xlabel('Year')\n",
    "plt.ylabel('Total Reported HIV Cases')\n",
    "plt.grid(True)\n",
    "plt.show()"
   ],
   "metadata": {
    "collapsed": false,
    "pycharm": {
     "name": "#%%\n"
    }
   }
  },
  {
   "cell_type": "code",
   "execution_count": null,
   "outputs": [],
   "source": [
    "chn_hiv_dict = chn_hiv.set_index('Year')['Current number of cases of hiv/aids per 100 people, in both sexes aged 15-49 years'].to_dict()\n",
    "chn_fr_hiv = functions.ext_sel_da(fr_data, 'CHN', 1988, 2021)\n",
    "chn_fr_hiv = {int(year): rate for year, rate in chn_fr_hiv.items()}\n",
    "df = pd.DataFrame({'Fertility_Rates': chn_fr_hiv, 'Polio Cases': chn_hiv_dict})\n",
    "df_normalized = (df - df.min()) / (df.max() - df.min())\n",
    "df_normalized.plot()\n",
    "plt.title('Normalized Fertility and HIV Cases Over Years')\n",
    "plt.xlabel('Year')\n",
    "plt.ylabel('Normalized Rates')\n",
    "plt.show()"
   ],
   "metadata": {
    "collapsed": false,
    "pycharm": {
     "name": "#%%\n"
    }
   }
  },
  {
   "cell_type": "markdown",
   "source": [
    "USA"
   ],
   "metadata": {
    "collapsed": false,
    "pycharm": {
     "name": "#%% md\n"
    }
   }
  },
  {
   "cell_type": "code",
   "execution_count": null,
   "outputs": [],
   "source": [
    "usa_covid = functions.ext_sel_covid(covid_data, 'US')\n",
    "plt.figure(figsize=(10, 6))\n",
    "plt.plot(usa_covid, label = 'COVID', marker='o')\n",
    "plt.title('Total New COVID-19 Cases Per Year in the USA')\n",
    "plt.xlabel('Year')\n",
    "plt.ylabel('Number of New Cases')\n",
    "plt.grid(True)\n",
    "plt.legend()\n",
    "plt.show()"
   ],
   "metadata": {
    "collapsed": false,
    "pycharm": {
     "name": "#%%\n"
    }
   }
  },
  {
   "cell_type": "code",
   "execution_count": null,
   "outputs": [],
   "source": [
    "fr_2019_to_2021 = fr_data[['Country Name', '2019', '2020', '2021']].dropna()\n",
    "fr_2019_to_2021.head()"
   ],
   "metadata": {
    "collapsed": false,
    "pycharm": {
     "name": "#%%\n"
    }
   }
  },
  {
   "cell_type": "code",
   "execution_count": null,
   "outputs": [],
   "source": [
    "covid_data['Date_reported'] = pd.to_datetime(covid_data['Date_reported'])\n",
    "covid_data_filtered = covid_data[(covid_data['Date_reported'].dt.year == 2020) | (covid_data['Date_reported'].dt.year == 2021)]\n",
    "grouped_data = covid_data_filtered.groupby('Country')['Cumulative_cases'].max()\n",
    "top_20_countries = grouped_data.sort_values(ascending=False).head(20)\n",
    "top_20_countries"
   ],
   "metadata": {
    "collapsed": false,
    "pycharm": {
     "name": "#%%\n"
    }
   }
  },
  {
   "cell_type": "code",
   "execution_count": null,
   "outputs": [],
   "source": [
    "top_20_country_names = top_20_countries.index.tolist()\n",
    "countries_in_data = fr_2019_to_2021['Country Name'].tolist()\n",
    "countries_not_in_data = []\n",
    "for country in top_20_country_names:\n",
    "    if country not in countries_in_data:\n",
    "        countries_not_in_data.append(country)\n",
    "countries_not_in_data"
   ],
   "metadata": {
    "collapsed": false,
    "pycharm": {
     "name": "#%%\n"
    }
   }
  },
  {
   "cell_type": "code",
   "execution_count": null,
   "outputs": [],
   "source": [
    "replacement_dict = {\n",
    "    'United States of America': 'United States',\n",
    "    'The United Kingdom': 'United Kingdom',\n",
    "    'Türkiye': 'Turkiye',\n",
    "    'Iran (Islamic Republic of)': 'Iran, Islamic Rep.'\n",
    "}\n",
    "top_20_country_names_replaced = [replacement_dict.get(country, country) for country in top_20_country_names]\n",
    "top_20_country_names_replaced"
   ],
   "metadata": {
    "collapsed": false,
    "pycharm": {
     "name": "#%%\n"
    }
   }
  },
  {
   "cell_type": "code",
   "execution_count": null,
   "outputs": [],
   "source": [
    "selected_countries_data = fr_2019_to_2021[fr_2019_to_2021['Country Name'].isin(top_20_country_names_replaced)]\n",
    "plt.figure(figsize=(14, 8))\n",
    "for index, row in selected_countries_data.iterrows():\n",
    "    row_data = row[['2019', '2020', '2021']].to_numpy()\n",
    "    plt.plot(['2019', '2020', '2021'], row_data, label=row['Country Name'])\n",
    "plt.title('Fertility Rate Trends (2019-2021) for Selected Countries')\n",
    "plt.xlabel('Year')\n",
    "plt.ylabel('Fertility Rate (births per woman)')\n",
    "plt.legend(bbox_to_anchor=(1.05, 1), loc='upper left')\n",
    "plt.tight_layout()\n",
    "plt.show()"
   ],
   "metadata": {
    "collapsed": false,
    "pycharm": {
     "name": "#%%\n"
    }
   }
  },
  {
   "cell_type": "code",
   "execution_count": null,
   "outputs": [],
   "source": [
    "df_countries = selected_countries_data.copy()\n",
    "df_countries.loc[:, 'Change Rate 2019-2020'] = (df_countries['2020'] - df_countries['2019']) / df_countries['2019']\n",
    "df_countries.loc[:, 'Change Rate 2020-2021'] = (df_countries['2021'] - df_countries['2020']) / df_countries['2020']\n",
    "change_rates_corrected = df_countries[['Country Name', 'Change Rate 2019-2020', 'Change Rate 2020-2021']]\n",
    "change_rates_corrected.reset_index(drop=True, inplace=True)\n",
    "change_rates_corrected"
   ],
   "metadata": {
    "collapsed": false,
    "pycharm": {
     "name": "#%%\n"
    }
   }
  },
  {
   "cell_type": "code",
   "execution_count": null,
   "outputs": [],
   "source": [
    "increased_fertility_countries = selected_countries_data[selected_countries_data['2021'] > selected_countries_data['2020']]\n",
    "increased_fertility_countries.reset_index(drop=True, inplace=True)\n",
    "increased_fertility_countries[['Country Name', '2020', '2021']]"
   ],
   "metadata": {
    "collapsed": false,
    "pycharm": {
     "name": "#%%\n"
    }
   }
  },
  {
   "cell_type": "code",
   "execution_count": null,
   "outputs": [],
   "source": [
    "countries_decreased_faster = df_countries[\n",
    "    (df_countries['Change Rate 2019-2020'] > df_countries['Change Rate 2020-2021'])\n",
    "]\n",
    "countries_decreased_faster[['Country Name', 'Change Rate 2019-2020', 'Change Rate 2020-2021']]"
   ],
   "metadata": {
    "collapsed": false,
    "pycharm": {
     "name": "#%%\n"
    }
   }
  },
  {
   "cell_type": "code",
   "execution_count": null,
   "outputs": [],
   "source": [
    "countries_decreased_slower = df_countries[\n",
    "    (df_countries['Change Rate 2019-2020'] < 0) & \n",
    "    (df_countries['Change Rate 2020-2021'] < 0) & \n",
    "    (df_countries['Change Rate 2019-2020'] < df_countries['Change Rate 2020-2021'])\n",
    "]\n",
    "countries_decreased_slower[['Country Name', 'Change Rate 2019-2020', 'Change Rate 2020-2021']]"
   ],
   "metadata": {
    "collapsed": false,
    "pycharm": {
     "name": "#%%\n"
    }
   }
  },
  {
   "cell_type": "markdown",
   "source": [
    "Hypothesis two"
   ],
   "metadata": {
    "collapsed": false,
    "pycharm": {
     "name": "#%% md\n"
    }
   }
  },
  {
   "cell_type": "code",
   "execution_count": null,
   "outputs": [],
   "source": [
    "syrian_dt = functions.ext_sel_da(dr_data, 'SYR', 2007, 2021)\n",
    "functions.plot_dt_draw(syrian_dt, 'SYR', 'Syrian Arab Republic', 1)"
   ],
   "metadata": {
    "collapsed": false,
    "pycharm": {
     "name": "#%%\n"
    }
   }
  },
  {
   "cell_type": "code",
   "execution_count": null,
   "outputs": [],
   "source": [
    "syr_fr = functions.ext_sel_da(fr_data, 'SYR', 2005, 2021)\n",
    "functions.plot_fertility_rates(syr_fr, 'SYR', 2005, 2021, 2)"
   ],
   "metadata": {
    "collapsed": false,
    "pycharm": {
     "name": "#%%\n"
    }
   }
  },
  {
   "cell_type": "code",
   "execution_count": null,
   "outputs": [],
   "source": [
    "functions.plot_normalized_rates(syr_fr, syrian_dt)"
   ],
   "metadata": {
    "collapsed": false,
    "pycharm": {
     "name": "#%%\n"
    }
   }
  },
  {
   "cell_type": "code",
   "execution_count": null,
   "outputs": [],
   "source": [
    "syr_fr_cr = functions.calculate_change_rate(syr_fr)\n",
    "start_year = 2010\n",
    "end_year = 2016\n",
    "filtered_sy_dt_cr = {year: rate for year, rate in syr_fr_cr.items() if start_year <= int(year) <= end_year}\n",
    "print(filtered_sy_dt_cr)\n",
    "plt.figure(figsize=(10, 6))\n",
    "plt.plot(filtered_sy_dt_cr.keys(), filtered_sy_dt_cr.values(), marker='o')\n",
    "plt.title('Change Rate from {} to {}'.format(start_year, end_year))\n",
    "plt.xlabel('Year')\n",
    "plt.ylabel('Change Rate')\n",
    "plt.grid(True)\n",
    "plt.show()"
   ],
   "metadata": {
    "collapsed": false,
    "pycharm": {
     "name": "#%%\n"
    }
   }
  },
  {
   "cell_type": "raw",
   "source": [
    "Death Rate in Libya"
   ],
   "metadata": {
    "collapsed": false,
    "pycharm": {
     "name": "#%% raw\n"
    }
   }
  },
  {
   "cell_type": "code",
   "execution_count": null,
   "outputs": [],
   "source": [
    "libya_dt = functions.ext_sel_da(dr_data, 'LBY', 1988, 2021)\n",
    "functions.plot_dt_draw(libya_dt, 'LBY', 'Libya', 3)"
   ],
   "metadata": {
    "collapsed": false,
    "pycharm": {
     "name": "#%%\n"
    }
   }
  },
  {
   "cell_type": "code",
   "execution_count": null,
   "outputs": [],
   "source": [
    "lby_fr = functions.ext_sel_da(fr_data, 'LBY', 1988, 2021)\n",
    "functions.plot_fertility_rates(lby_fr, 'LBY', 1988, 2021, 3)"
   ],
   "metadata": {
    "collapsed": false,
    "pycharm": {
     "name": "#%%\n"
    }
   }
  },
  {
   "cell_type": "markdown",
   "source": [
    "Normalized"
   ],
   "metadata": {
    "collapsed": false,
    "pycharm": {
     "name": "#%% md\n"
    }
   }
  },
  {
   "cell_type": "code",
   "execution_count": null,
   "outputs": [],
   "source": [
    "functions.plot_normalized_rates(lby_fr, libya_dt)"
   ],
   "metadata": {
    "collapsed": false,
    "pycharm": {
     "name": "#%%\n"
    }
   }
  },
  {
   "cell_type": "markdown",
   "source": [
    "Number of documented civilian deaths in the Iraq war from 2003 to October 2023"
   ],
   "metadata": {
    "collapsed": false,
    "pycharm": {
     "name": "#%% md\n"
    }
   }
  },
  {
   "cell_type": "code",
   "execution_count": null,
   "outputs": [],
   "source": [
    "iraq_death_ct = iraq_death[['Year', 'Death number']]\n",
    "#print(iraq_death_ct)\n",
    "plt.figure(figsize=(10, 6))\n",
    "plt.plot(iraq_death_ct['Year'].values, iraq_death_ct['Death number'].values, marker='o')\n",
    "plt.title('Number of documented civilian deaths in the Iraq war from 2003 to October 2023')\n",
    "plt.xlabel('Year')\n",
    "plt.ylabel('Total death number')\n",
    "plt.grid(True)\n",
    "plt.show()"
   ],
   "metadata": {
    "collapsed": false,
    "pycharm": {
     "name": "#%%\n"
    }
   }
  },
  {
   "cell_type": "code",
   "execution_count": null,
   "outputs": [],
   "source": [
    "iraq_dt_dict = iraq_death_ct.set_index('Year')['Death number'].to_dict()\n",
    "iraq_fr = functions.ext_sel_da(fr_data, 'IRQ', 2003, 2021)\n",
    "functions.plot_fertility_rates(iraq_fr, 'IRQ', 2003, 2021, 2)\n",
    "iraq_fr_int_keys = {int(year): rate for year, rate in iraq_fr.items()}\n",
    "functions.plot_normalized_rates(iraq_fr_int_keys, iraq_dt_dict)"
   ],
   "metadata": {
    "collapsed": false,
    "pycharm": {
     "name": "#%%\n"
    }
   }
  },
  {
   "cell_type": "markdown",
   "source": [
    "Battle-related deaths (number of people) - Afghanistan"
   ],
   "metadata": {
    "collapsed": false,
    "pycharm": {
     "name": "#%% md\n"
    }
   }
  },
  {
   "cell_type": "code",
   "execution_count": null,
   "outputs": [],
   "source": [
    "afg_dt = functions.ext_sel_da(bt_death, 'AFG', 2002, 2022)\n",
    "afg_years = list(map(int, afg_dt.keys()))\n",
    "afg_rates = list(afg_dt.values())\n",
    "plt.figure(figsize=(10, 6))\n",
    "plt.plot(afg_years, afg_rates, label='AFG', marker='o')\n",
    "plt.xticks(range(min(afg_years), max(afg_years) + 1, 2))\n",
    "plt.title(\"Battle-related deaths (number of people) - Afghanistan\")\n",
    "plt.xlabel(\"Year\")\n",
    "plt.ylabel(\"Death number\")\n",
    "plt.grid(True)\n",
    "plt.legend()\n",
    "plt.show()"
   ],
   "metadata": {
    "collapsed": false,
    "pycharm": {
     "name": "#%%\n"
    }
   }
  },
  {
   "cell_type": "code",
   "execution_count": null,
   "outputs": [],
   "source": [
    "afg_fr = functions.ext_sel_da(fr_data, 'AFG', 1990, 2021)\n",
    "functions.plot_fertility_rates(afg_fr, 'AFG', 1990, 2021, 2)"
   ],
   "metadata": {
    "collapsed": false,
    "pycharm": {
     "name": "#%%\n"
    }
   }
  },
  {
   "cell_type": "code",
   "execution_count": null,
   "outputs": [],
   "source": [
    "functions.plot_normalized_rates(afg_fr, afg_dt)"
   ],
   "metadata": {
    "collapsed": false,
    "pycharm": {
     "name": "#%%\n"
    }
   }
  },
  {
   "cell_type": "code",
   "execution_count": null,
   "outputs": [],
   "source": [
    "afg_fr_cr = functions.calculate_change_rate(afg_fr)\n",
    "start_year = 2002\n",
    "end_year = 2019\n",
    "filtered_afg_dt_cr = {year: rate for year, rate in afg_fr_cr.items() if start_year <= int(year) <= end_year}\n",
    "#print(filtered_afg_dt_cr)\n",
    "plt.figure(figsize=(10, 6))\n",
    "plt.plot(filtered_afg_dt_cr.keys(), filtered_afg_dt_cr.values(), marker='o')\n",
    "plt.title('Change Rate from {} to {}'.format(start_year, end_year))\n",
    "plt.xlabel('Year')\n",
    "plt.ylabel('Change Rate')\n",
    "plt.grid(True)\n",
    "plt.show()"
   ],
   "metadata": {
    "collapsed": false,
    "pycharm": {
     "name": "#%%\n"
    }
   }
  },
  {
   "cell_type": "code",
   "execution_count": null,
   "outputs": [],
   "source": [],
   "metadata": {
    "collapsed": false,
    "pycharm": {
     "name": "#%%\n"
    }
   }
  }
 ],
 "metadata": {
  "kernelspec": {
   "display_name": "Python 3",
   "language": "python",
   "name": "python3"
  },
  "language_info": {
   "codemirror_mode": {
    "name": "ipython",
    "version": 2
   },
   "file_extension": ".py",
   "mimetype": "text/x-python",
   "name": "python",
   "nbconvert_exporter": "python",
   "pygments_lexer": "ipython2",
   "version": "2.7.6"
  }
 },
 "nbformat": 4,
 "nbformat_minor": 5
}