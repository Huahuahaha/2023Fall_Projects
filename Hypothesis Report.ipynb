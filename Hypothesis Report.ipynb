{
 "cells": [
  {
   "cell_type": "code",
   "execution_count": 71,
   "id": "initial_id",
   "metadata": {
    "collapsed": true,
    "ExecuteTime": {
     "end_time": "2023-11-27T04:28:07.979830Z",
     "start_time": "2023-11-27T04:28:07.848226600Z"
    }
   },
   "outputs": [
    {
     "name": "stdout",
     "output_type": "stream",
     "text": [
      "      Year  Total (reported) polio cases\n",
      "1426  1980                          7442\n",
      "1427  1981                          9625\n",
      "1428  1982                          7741\n",
      "1429  1983                          3296\n",
      "1430  1984                          1626\n",
      "1431  1985                          1537\n",
      "1432  1986                          1844\n",
      "1433  1987                           969\n",
      "1434  1988                           667\n",
      "1435  1989                          4623\n",
      "1436  1990                          5065\n",
      "1437  1991                          1926\n",
      "1438  1992                          1191\n",
      "1439  1993                           653\n",
      "1440  1994                           261\n",
      "1441  1995                           165\n",
      "1442  1996                             3\n",
      "1443  1997                             0\n",
      "1444  1998                             0\n",
      "1445  1999                             1\n",
      "1446  2000                             0\n",
      "1447  2001                             0\n",
      "1448  2002                             0\n",
      "1449  2003                             0\n",
      "1450  2004                             2\n",
      "1451  2005                             0\n",
      "1452  2006                             0\n",
      "1453  2007                             0\n",
      "1454  2008                             0\n",
      "1455  2009                             0\n",
      "1456  2010                             0\n",
      "1457  2011                            21\n",
      "1458  2012                             2\n",
      "1459  2013                             0\n",
      "1460  2014                             0\n",
      "1461  2015                             0\n",
      "1462  2016                             0\n",
      "1463  2017                             0\n",
      "1464  2018                             0\n",
      "1465  2019                             1\n",
      "1466  2020                             0\n",
      "1467  2021                             0\n"
     ]
    }
   ],
   "source": [
    "import pandas as pd\n",
    "import main_functions as functions\n",
    "import importlib\n",
    "\n",
    "\n",
    "importlib.reload(functions)\n",
    "fr_data = pd.read_csv('Data/Fertility rates.csv', skiprows=4)\n",
    "covid_data = pd.read_csv('Data/WHO-COVID-19-global-data.csv')\n",
    "polio_data = pd.read_csv('Data/the-number-of-reported-paralytic-polio-cases.csv')\n",
    "usa_fr = functions.ext_sel_fr(fr_data, 'USA', 2000, 2021)\n",
    "usa_covid = functions.ext_sel_covid(covid_data, 'US')\n",
    "chn_polio = functions.ext_sel_polio(polio_data, 'CHN')\n",
    "print(chn_polio)\n",
    "# Test the dictionary of usa_fr\n",
    "#for year, rate in usa_fr.items():\n",
    "    #print(f\"{year}: {rate}\")\n",
    "\n",
    "\n",
    "\n",
    "\n"
   ]
  },
  {
   "cell_type": "code",
   "execution_count": 71,
   "outputs": [],
   "source": [],
   "metadata": {
    "collapsed": false,
    "ExecuteTime": {
     "end_time": "2023-11-27T04:28:07.979830Z",
     "start_time": "2023-11-27T04:28:07.976322300Z"
    }
   },
   "id": "ad9f8ab74b6974e1"
  }
 ],
 "metadata": {
  "kernelspec": {
   "display_name": "Python 3",
   "language": "python",
   "name": "python3"
  },
  "language_info": {
   "codemirror_mode": {
    "name": "ipython",
    "version": 2
   },
   "file_extension": ".py",
   "mimetype": "text/x-python",
   "name": "python",
   "nbconvert_exporter": "python",
   "pygments_lexer": "ipython2",
   "version": "2.7.6"
  }
 },
 "nbformat": 4,
 "nbformat_minor": 5
}
